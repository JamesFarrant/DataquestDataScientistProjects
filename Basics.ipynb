{
 "cells": [
  {
   "cell_type": "code",
   "execution_count": 3,
   "metadata": {
    "collapsed": false
   },
   "outputs": [],
   "source": [
    "f = open('US_births_1994-2003_CDC_NCHS.csv', 'r')\n",
    "data = f.read()"
   ]
  },
  {
   "cell_type": "code",
   "execution_count": 38,
   "metadata": {
    "collapsed": false
   },
   "outputs": [
    {
     "data": {
      "text/plain": [
       "['year,month,date_of_month,day_of_week,births',\n",
       " '1994,1,1,6,8096',\n",
       " '1994,1,2,7,7772',\n",
       " '1994,1,3,1,10142',\n",
       " '1994,1,4,2,11248',\n",
       " '1994,1,5,3,11053',\n",
       " '1994,1,6,4,11406',\n",
       " '1994,1,7,5,11251',\n",
       " '1994,1,8,6,8653',\n",
       " '1994,1,9,7,7910',\n",
       " '1994,1,10,1,10498']"
      ]
     },
     "execution_count": 38,
     "metadata": {},
     "output_type": "execute_result"
    }
   ],
   "source": [
    "split_data[:11]"
   ]
  },
  {
   "cell_type": "code",
   "execution_count": 16,
   "metadata": {
    "collapsed": false
   },
   "outputs": [
    {
     "name": "stdout",
     "output_type": "stream",
     "text": [
      "[[1994, 1, 1, 6, 8096], [1994, 1, 1, 6, 8096], [1994, 1, 1, 6, 8096], [1994, 1, 1, 6, 8096], [1994, 1, 1, 6, 8096], [1994, 1, 2, 7, 7772], [1994, 1, 2, 7, 7772], [1994, 1, 2, 7, 7772], [1994, 1, 2, 7, 7772], [1994, 1, 2, 7, 7772], [1994, 1, 3, 1, 10142]]\n"
     ]
    }
   ],
   "source": [
    "def read_csv(file):\n",
    "    f = open(file, 'r')\n",
    "    data = f.read()\n",
    "    string_list = data.split('\\n')[1:len(data)]\n",
    "    \n",
    "    final_list = []\n",
    "    \n",
    "    for row in string_list:\n",
    "        int_fields = []\n",
    "        string_fields = row.split(',')\n",
    "        for row in string_fields:\n",
    "            int_fields.append(int(row))\n",
    "            final_list.append(int_fields)\n",
    "    return final_list\n",
    "        \n",
    "cdc_list = read_csv('US_births_1994-2003_CDC_NCHS.csv')\n",
    "\n",
    "print(cdc_list[:11])"
   ]
  },
  {
   "cell_type": "code",
   "execution_count": 18,
   "metadata": {
    "collapsed": false
   },
   "outputs": [
    {
     "name": "stdout",
     "output_type": "stream",
     "text": [
      "{1: 16162585, 2: 15090700, 3: 16610345, 4: 15926570, 5: 16754535, 6: 16482650, 7: 17493915, 8: 17629290, 9: 17198490, 10: 16894070, 11: 15858235, 12: 16509300}\n"
     ]
    }
   ],
   "source": [
    "def month_births(list_of_lists):\n",
    "    births_per_month = {}\n",
    "    \n",
    "    for col in list_of_lists:\n",
    "        month = col[1]\n",
    "        births = col[-1]\n",
    "        \n",
    "        if month in births_per_month:\n",
    "            births_per_month[month] = births_per_month[month] + births\n",
    "        else:\n",
    "            births_per_month[month] = births\n",
    "    \n",
    "    return births_per_month\n",
    "\n",
    "cdc_birth_months = month_births(cdc_list)\n",
    "print(cdc_birth_months)"
   ]
  },
  {
   "cell_type": "code",
   "execution_count": 19,
   "metadata": {
    "collapsed": false
   },
   "outputs": [
    {
     "name": "stdout",
     "output_type": "stream",
     "text": [
      "{1: 28945830, 2: 32230980, 3: 31614275, 4: 31442145, 5: 31168285, 6: 22810555, 7: 20398615}\n"
     ]
    }
   ],
   "source": [
    "def dow_births(list_of_lists):\n",
    "    births_per_dow = {}\n",
    "    \n",
    "    for col in list_of_lists:\n",
    "        dow = col[3]\n",
    "        births = col[-1]\n",
    "        \n",
    "        if dow in births_per_dow:\n",
    "            births_per_dow[dow] = births_per_dow[dow] + births\n",
    "        else:\n",
    "            births_per_dow[dow] = births\n",
    "    \n",
    "    return births_per_dow\n",
    "\n",
    "cdc_day_births = dow_births(cdc_list)\n",
    "print(cdc_day_births)"
   ]
  },
  {
   "cell_type": "code",
   "execution_count": 46,
   "metadata": {
    "collapsed": false
   },
   "outputs": [],
   "source": [
    "def calc_counts(data, column):\n",
    "    result = {}\n",
    "    \n",
    "    for elt in data:\n",
    "        births = elt[-1]\n",
    "        col = elt[column]\n",
    "        if col in data:\n",
    "            result[col] = result[col] + births\n",
    "        else:\n",
    "            result[col] = births\n",
    "    return result\n",
    "\n",
    "cdc_year_births = calc_counts(cdc_list, 0)\n",
    "cdc_month_births = calc_counts(cdc_list, 1)\n",
    "cdc_dom_births = calc_counts(cdc_list, 2)\n",
    "cdc_dow_births = calc_counts(cdc_list, 3)"
   ]
  },
  {
   "cell_type": "code",
   "execution_count": 47,
   "metadata": {
    "collapsed": false
   },
   "outputs": [
    {
     "name": "stdout",
     "output_type": "stream",
     "text": [
      "{1: 12823, 2: 14438, 3: 12374, 4: 6628, 5: 10218, 6: 8646, 7: 7645}\n"
     ]
    }
   ],
   "source": [
    "print(cdc_dow_births)"
   ]
  },
  {
   "cell_type": "code",
   "execution_count": 48,
   "metadata": {
    "collapsed": false
   },
   "outputs": [
    {
     "data": {
      "text/plain": [
       "{1: 11973,\n",
       " 2: 13122,\n",
       " 3: 12884,\n",
       " 4: 12372,\n",
       " 5: 11901,\n",
       " 6: 8132,\n",
       " 7: 7241,\n",
       " 8: 11496,\n",
       " 9: 12699,\n",
       " 10: 12470,\n",
       " 11: 12242,\n",
       " 12: 12237,\n",
       " 13: 8150,\n",
       " 14: 7337,\n",
       " 15: 12064,\n",
       " 16: 13350,\n",
       " 17: 13106,\n",
       " 18: 13594,\n",
       " 19: 13434,\n",
       " 20: 8795,\n",
       " 21: 7547,\n",
       " 22: 12967,\n",
       " 23: 12598,\n",
       " 24: 9096,\n",
       " 25: 6628,\n",
       " 26: 10218,\n",
       " 27: 8646,\n",
       " 28: 7645,\n",
       " 29: 12823,\n",
       " 30: 14438,\n",
       " 31: 12374}"
      ]
     },
     "execution_count": 48,
     "metadata": {},
     "output_type": "execute_result"
    }
   ],
   "source": [
    "cdc_dom_births"
   ]
  },
  {
   "cell_type": "code",
   "execution_count": 49,
   "metadata": {
    "collapsed": false
   },
   "outputs": [
    {
     "data": {
      "text/plain": [
       "{1994: 8809,\n",
       " 1995: 7596,\n",
       " 1996: 11924,\n",
       " 1997: 11818,\n",
       " 1998: 11389,\n",
       " 1999: 9335,\n",
       " 2000: 7721,\n",
       " 2001: 10018,\n",
       " 2002: 12339,\n",
       " 2003: 12374}"
      ]
     },
     "execution_count": 49,
     "metadata": {},
     "output_type": "execute_result"
    }
   ],
   "source": [
    "cdc_year_births"
   ]
  },
  {
   "cell_type": "code",
   "execution_count": null,
   "metadata": {
    "collapsed": true
   },
   "outputs": [],
   "source": []
  },
  {
   "cell_type": "code",
   "execution_count": null,
   "metadata": {
    "collapsed": true
   },
   "outputs": [],
   "source": []
  }
 ],
 "metadata": {
  "anaconda-cloud": {},
  "kernelspec": {
   "display_name": "Python 3",
   "language": "python",
   "name": "python3"
  },
  "language_info": {
   "codemirror_mode": {
    "name": "ipython",
    "version": 3
   },
   "file_extension": ".py",
   "mimetype": "text/x-python",
   "name": "python",
   "nbconvert_exporter": "python",
   "pygments_lexer": "ipython3",
   "version": "3.4.3"
  }
 },
 "nbformat": 4,
 "nbformat_minor": 1
}
